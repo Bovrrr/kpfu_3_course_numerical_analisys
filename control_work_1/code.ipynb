{
 "cells": [
  {
   "cell_type": "code",
   "execution_count": 1,
   "metadata": {},
   "outputs": [],
   "source": [
    "import numpy as np\n",
    "import sympy as sp\n",
    "\n",
    "from functools import reduce\n",
    "from typing import Callable, Iterable\n",
    "\n",
    "import seaborn as sns\n",
    "import matplotlib.pyplot as plt\n",
    "%matplotlib inline\n"
   ]
  },
  {
   "cell_type": "markdown",
   "metadata": {},
   "source": [
    "# Onbayev Baurzhan (15 variant)"
   ]
  },
  {
   "cell_type": "code",
   "execution_count": 2,
   "metadata": {},
   "outputs": [],
   "source": [
    "def f(x):\n",
    "    return 2 * np.log(x + 5 ** (1 / 2)) * np.sinh(x)\n",
    "\n",
    "\n",
    "a = 1\n",
    "b = 3\n",
    "\n",
    "x_1 = 1.24\n",
    "x_2 = 1.97\n",
    "x_3 = 2.54\n",
    "\n",
    "x_collection = [x_1, x_2, x_3]\n"
   ]
  },
  {
   "cell_type": "markdown",
   "metadata": {},
   "source": [
    "# task 1"
   ]
  },
  {
   "cell_type": "code",
   "execution_count": 3,
   "metadata": {},
   "outputs": [],
   "source": [
    "# polynom - будем хранить коэффициенты слева направо по убыванию степени икса\n",
    "\n",
    "\n",
    "class task_1:\n",
    "    def __init__(self, x_collection: Iterable, f: Callable) -> None:\n",
    "        self.x_collection = x_collection\n",
    "        self.func = f\n",
    "        self.y_collection = [f(x) for x in x_collection]\n",
    "\n",
    "    @staticmethod\n",
    "    def pol_prod(a, b):\n",
    "        \"\"\"\n",
    "        params:\n",
    "            a, b - polynoms coefficients\n",
    "        returns:\n",
    "            c - a * b polynom coefficients\n",
    "        \"\"\"\n",
    "        size_a = len(a)\n",
    "        size_b = len(b)\n",
    "        size_c = size_a + size_b - 1\n",
    "        c = [0.0] * size_c\n",
    "        for i in range(size_a):\n",
    "            for j in range(size_b):\n",
    "                c[i + j] += a[i] * b[j]\n",
    "        return c\n",
    "\n",
    "    @staticmethod\n",
    "    def pol_sum(a, b):\n",
    "        \"\"\"\n",
    "        params:\n",
    "            a, b - polynoms coefficients\n",
    "        returns:\n",
    "            c - a + b polynom coefficients\n",
    "        \"\"\"\n",
    "        size_a = len(a)\n",
    "        size_b = len(b)\n",
    "        max_len = max(size_a, size_b)\n",
    "        min_len = min(size_a, size_b)\n",
    "        size_c = max_len\n",
    "        c = [0.0] * size_c\n",
    "\n",
    "        if size_a == size_b:\n",
    "            for i in range(size_c):\n",
    "                c[i] = a[i] + b[i]\n",
    "            return c\n",
    "\n",
    "        arr = a if size_a < size_b else b\n",
    "        c_ = [0.0] * (max_len - min_len) + [el for el in arr]\n",
    "        for i in range(size_c):\n",
    "            x = a[i] if size_a > size_b else b[i]\n",
    "            c[i] = c_[i] + x\n",
    "        return c\n",
    "\n",
    "    @staticmethod\n",
    "    def take_derivative(w):\n",
    "        \"\"\"\n",
    "        params:\n",
    "            w - polynom coefficients (от макс степени к мин степени)\n",
    "        returns:\n",
    "            w_ - w polynom-deriviate coefficients (от макс степени к мин степени)\n",
    "        \"\"\"\n",
    "        w_ = np.zeros_like(w)\n",
    "        size = len(w)\n",
    "        for i in range(1, size):\n",
    "            w_[i] = w[i - 1] * (size - i)\n",
    "        return w_\n",
    "\n",
    "    @staticmethod\n",
    "    def f(w, x):\n",
    "        \"\"\"\n",
    "        params:\n",
    "            w: iterable object - коэффициенты полинома от максимальной степени к минимальной\n",
    "            x: some number - x value\n",
    "        returns:\n",
    "            polynom-function value of x\n",
    "        \"\"\"\n",
    "        size = len(w)\n",
    "        return sum([w[i] * x ** (size - i) for i in range(size)])\n",
    "\n",
    "    def count_l_k(self, k: int):\n",
    "        w = reduce(task_1.pol_prod, [[1, -x] for x in self.x_collection])\n",
    "        w_d = task_1.take_derivative(w)\n",
    "        znam = task_1.pol_prod(w_d, [1, -self.x_collection[k]])\n",
    "        return w, znam\n",
    "\n",
    "    def L(self, x):\n",
    "        if not hasattr(self, \"fund_pol_collection\"):\n",
    "            self.fund_pol_collection = [\n",
    "                self.count_l_k(k) for k in range(len(self.x_collection))\n",
    "            ]\n",
    "        s = 0\n",
    "        for i in range(len(self.x_collection)):\n",
    "            s += (\n",
    "                self.y_collection[i]\n",
    "                * task_1.f(self.fund_pol_collection[i][0], x)\n",
    "                / task_1.f(self.fund_pol_collection[i][1], self.x_collection[i])\n",
    "            )\n",
    "        return s\n"
   ]
  },
  {
   "cell_type": "code",
   "execution_count": 4,
   "metadata": {},
   "outputs": [
    {
     "data": {
      "text/plain": [
       "([4.0, 13.0, 28.0, 32.0, 28.0, 15.0], [4.0, 6, 8, 8])"
      ]
     },
     "execution_count": 4,
     "metadata": {},
     "output_type": "execute_result"
    }
   ],
   "source": [
    "c = [1, 2, 3]\n",
    "d = [4, 5, 6, 5]\n",
    "\n",
    "task_1.pol_prod(d, c), task_1.pol_sum(d, c)\n"
   ]
  },
  {
   "cell_type": "code",
   "execution_count": 5,
   "metadata": {},
   "outputs": [
    {
     "data": {
      "text/plain": [
       "([1.24, 1.97, 2.54],\n",
       " [3.9448106021193134, 10.100545557435815, 19.70283991653756])"
      ]
     },
     "execution_count": 5,
     "metadata": {},
     "output_type": "execute_result"
    }
   ],
   "source": [
    "l = task_1(x_collection, f)\n",
    "l.x_collection, l.y_collection\n"
   ]
  },
  {
   "cell_type": "code",
   "execution_count": 6,
   "metadata": {},
   "outputs": [
    {
     "data": {
      "text/plain": [
       "(1,\n",
       " 3,\n",
       " [1.24, 1.97, 2.54],\n",
       " [3.9448106021193134, 10.100545557435815, 19.70283991653756],\n",
       " [-0.5086716752128538, 0.0, -2.0346867008514153])"
      ]
     },
     "execution_count": 6,
     "metadata": {},
     "output_type": "execute_result"
    }
   ],
   "source": [
    "a, b, x_collection, [f(x) for x in x_collection], [l.L(x) for x in x_collection]\n"
   ]
  },
  {
   "cell_type": "code",
   "execution_count": 7,
   "metadata": {},
   "outputs": [
    {
     "name": "stdout",
     "output_type": "stream",
     "text": [
      "3.9448106021193134 -0.5086716752128538\n",
      "10.100545557435815 0.0\n",
      "19.70283991653756 -2.0346867008514153\n"
     ]
    }
   ],
   "source": [
    "for x in x_collection:\n",
    "    print(f(x), l.L(x))\n"
   ]
  },
  {
   "cell_type": "code",
   "execution_count": null,
   "metadata": {},
   "outputs": [],
   "source": []
  },
  {
   "cell_type": "code",
   "execution_count": 8,
   "metadata": {},
   "outputs": [],
   "source": [
    "def plot_graphic(fs, a, b, n):\n",
    "    f, ax = plt.subplots(1, 1)\n",
    "    f.set_size_inches(16, 9)\n",
    "    xs = np.linspace(a, b, n)\n",
    "    for f in fs:\n",
    "        ys = np.array([f(x) for x in xs])\n",
    "        sns.lineplot(x=xs, y=ys, ax=ax)\n",
    "    plt.show()\n"
   ]
  },
  {
   "cell_type": "code",
   "execution_count": 9,
   "metadata": {},
   "outputs": [
    {
     "data": {
      "image/png": "[encoded data removed]",
      "text/plain": [
       "<Figure size 1152x648 with 1 Axes>"
      ]
     },
     "metadata": {
      "needs_background": "light"
     },
     "output_type": "display_data"
    }
   ],
   "source": [
    "plot_graphic([f, l.L], a, b, 30)\n"
   ]
  },
  {
   "cell_type": "code",
   "execution_count": null,
   "metadata": {},
   "outputs": [],
   "source": []
  }
 ],
 "metadata": {
  "kernelspec": {
   "display_name": "Python 3.10.4 64-bit",
   "language": "python",
   "name": "python3"
  },
  "language_info": {
   "codemirror_mode": {
    "name": "ipython",
    "version": 3
   },
   "file_extension": ".py",
   "mimetype": "text/x-python",
   "name": "python",
   "nbconvert_exporter": "python",
   "pygments_lexer": "ipython3",
   "version": "3.10.4"
  },
  "orig_nbformat": 4,
  "vscode": {
   "interpreter": {
    "hash": "31f2aee4e71d21fbe5cf8b01ff0e069b9275f58929596ceb00d14d90e3e16cd6"
   }
  }
 },
 "nbformat": 4,
 "nbformat_minor": 2
}
