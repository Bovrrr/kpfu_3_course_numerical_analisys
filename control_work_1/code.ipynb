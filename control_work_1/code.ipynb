{
 "cells": [
  {
   "cell_type": "code",
   "execution_count": 90,
   "metadata": {},
   "outputs": [],
   "source": [
    "import numpy as np\n",
    "import sympy as sp\n",
    "\n",
    "from functools import reduce\n",
    "from typing import Callable, Iterable\n",
    "\n",
    "import math\n",
    "\n",
    "import seaborn as sns\n",
    "import matplotlib.pyplot as plt\n",
    "%matplotlib inline\n",
    "\n",
    "from variables import plot_graphic\n"
   ]
  },
  {
   "cell_type": "markdown",
   "metadata": {},
   "source": [
    "# Onbayev Baurzhan (15 variant)"
   ]
  },
  {
   "cell_type": "code",
   "execution_count": 91,
   "metadata": {},
   "outputs": [],
   "source": [
    "def f(x: float) -> float:\n",
    "    return 2 * np.log(x + 5 ** (1 / 2)) * np.sinh(x)\n",
    "\n",
    "\n",
    "def f_d(x: float) -> float:\n",
    "    return 2 * np.sinh(x) / (x + np.sqrt(5)) + 2 * np.log(x + np.sqrt(5)) * np.cosh(x)\n",
    "\n",
    "\n",
    "def f_5_d(x: float) -> float:\n",
    "    s = x + np.sqrt(5)\n",
    "    return (\n",
    "        10 * np.sinh(x) / s\n",
    "        + 40 * np.sinh(x) / s**3\n",
    "        + 48 * np.sinh(x) / s**5\n",
    "        - 20 * np.cosh(x) / s**2\n",
    "        - 60 * np.cosh(x) / s**4\n",
    "        + 2 * np.log(s) * np.cosh(x)\n",
    "    )\n",
    "\n",
    "\n",
    "a = 1\n",
    "b = 3\n",
    "\n",
    "x_1 = 1.24\n",
    "x_2 = 1.97\n",
    "x_3 = 2.54\n",
    "\n",
    "control_x_collection = [x_1, x_2, x_3]\n",
    "x_collection = [a + k * (b - a) / 4 for k in range(0, 5)]\n",
    "x_collection_ = [\n",
    "    (b - a) / 2 * np.cos((2 * k - 1) * np.pi / 10) + (b + a) / 2 for k in range(1, 6)\n",
    "][::-1]\n"
   ]
  },
  {
   "cell_type": "markdown",
   "metadata": {},
   "source": [
    "# task 1"
   ]
  },
  {
   "cell_type": "code",
   "execution_count": 92,
   "metadata": {},
   "outputs": [],
   "source": [
    "# polynom - будем хранить коэффициенты слева направо по убыванию степени икса\n",
    "\n",
    "\n",
    "class task_1:\n",
    "    def __init__(self, x_collection: Iterable, f: Callable) -> None:\n",
    "        self.x_collection = x_collection\n",
    "        self.func = f\n",
    "        self.y_collection = [f(x) for x in x_collection]\n",
    "\n",
    "    @staticmethod\n",
    "    def pol_prod(a, b):\n",
    "        \"\"\"\n",
    "        params:\n",
    "            a, b - polynoms coefficients\n",
    "        returns:\n",
    "            c - a * b polynom coefficients\n",
    "        \"\"\"\n",
    "        size_a = len(a)\n",
    "        size_b = len(b)\n",
    "        size_c = size_a + size_b - 1\n",
    "        c = [0.0] * size_c\n",
    "        for i in range(size_a):\n",
    "            for j in range(size_b):\n",
    "                c[i + j] += a[i] * b[j]\n",
    "        return c\n",
    "\n",
    "    @staticmethod\n",
    "    def pol_sum(a, b):\n",
    "        \"\"\"\n",
    "        params:\n",
    "            a, b - polynoms coefficients\n",
    "        returns:\n",
    "            c - a + b polynom coefficients\n",
    "        \"\"\"\n",
    "        size_a = len(a)\n",
    "        size_b = len(b)\n",
    "        max_len = max(size_a, size_b)\n",
    "        min_len = min(size_a, size_b)\n",
    "        size_c = max_len\n",
    "        c = [0.0] * size_c\n",
    "\n",
    "        if size_a == size_b:\n",
    "            for i in range(size_c):\n",
    "                c[i] = a[i] + b[i]\n",
    "            return c\n",
    "\n",
    "        arr = a if size_a < size_b else b\n",
    "        c_ = [0.0] * (max_len - min_len) + [el for el in arr]\n",
    "        for i in range(size_c):\n",
    "            x = a[i] if size_a > size_b else b[i]\n",
    "            c[i] = c_[i] + x\n",
    "        return c\n",
    "\n",
    "    @staticmethod\n",
    "    def take_derivate(w):\n",
    "        \"\"\"\n",
    "        params:\n",
    "            w - polynom coefficients (от макс степени к мин степени)\n",
    "        returns:\n",
    "            w_ - w polynom-deriviate coefficients (от макс степени к мин степени)\n",
    "        \"\"\"\n",
    "        w_ = np.zeros_like(w)\n",
    "        size = len(w)\n",
    "        for i in range(1, size):\n",
    "            w_[i] = w[i - 1] * (size - i)\n",
    "        return w_[1:]\n",
    "\n",
    "    @staticmethod\n",
    "    def f(w, x):\n",
    "        \"\"\"\n",
    "        params:\n",
    "            w: iterable object - коэффициенты полинома от максимальной степени к минимальной\n",
    "            x: some number - x value\n",
    "        returns:\n",
    "            polynom-function value of x\n",
    "        \"\"\"\n",
    "        size = len(w)\n",
    "        return sum([w[i] * x ** (size - i - 1) for i in range(size)])\n",
    "\n",
    "    def count_l_k_var_1(self, k: int):\n",
    "        w = [1]\n",
    "        s = 1\n",
    "        for i in range(len(self.x_collection)):\n",
    "            if i != k:\n",
    "                w = task_1.pol_prod(w, [1, -self.x_collection[i]])\n",
    "                s *= self.x_collection[k] - self.x_collection[i]\n",
    "\n",
    "        for i, a in enumerate(w):\n",
    "            w[i] = a / s\n",
    "\n",
    "        return w\n",
    "\n",
    "    def count_l_k_var_2(self, k: int):\n",
    "        w = reduce(\n",
    "            task_1.pol_prod,\n",
    "            [[1, -x] for i, x in enumerate(self.x_collection) if i != k],\n",
    "        )\n",
    "        w_d = task_1.take_derivate(w)\n",
    "        s = task_1.f(w_d, self.x_collection[k])\n",
    "        for i, a in enumerate(w):\n",
    "            w[i] = a / s\n",
    "        return w\n",
    "\n",
    "    def count_L(self):\n",
    "        if any(\n",
    "            [\n",
    "                not hasattr(self, \"fund_pol_collection_var_1\"),\n",
    "                not hasattr(self, \"fund_pol_collection_var_2\"),\n",
    "            ]\n",
    "        ):\n",
    "            self.fund_pol_collection_var_1 = [\n",
    "                self.count_l_k_var_1(k) for k in range(len(self.x_collection))\n",
    "            ]\n",
    "            self.fund_pol_collection_var_2 = [\n",
    "                self.count_l_k_var_2(k) for k in range(len(self.x_collection))\n",
    "            ]\n",
    "\n",
    "    def L(self, x: float, var: int) -> float:\n",
    "        s = 0\n",
    "        for i in range(len(self.x_collection)):\n",
    "            if 1 == var:\n",
    "                s += self.y_collection[i] * task_1.f(\n",
    "                    self.fund_pol_collection_var_1[i],\n",
    "                    x,\n",
    "                )\n",
    "            elif 2 == var:\n",
    "                s += self.y_collection[i] * task_1.f(\n",
    "                    self.fund_pol_collection_var_2[i],\n",
    "                    x,\n",
    "                )\n",
    "        return s\n"
   ]
  },
  {
   "cell_type": "code",
   "execution_count": 93,
   "metadata": {},
   "outputs": [
    {
     "name": "stdout",
     "output_type": "stream",
     "text": [
      "в узловых точках\n",
      "2.7602162103408827 2.7602162103408827\n",
      "5.612924222916675 5.612924222916616\n",
      "10.47172869657889 10.471728696578912\n",
      "18.818643755906045 18.81864375590563\n",
      "33.17060303042373 33.17060303042326\n",
      "\n",
      "в контрольных точках\n",
      "3.9448106021193134 3.9316387161730653\n",
      "10.100545557435815 10.1016037882857\n",
      "19.70283991653756 19.705341014952765\n"
     ]
    },
    {
     "name": "stderr",
     "output_type": "stream",
     "text": [
      "/tmp/ipykernel_73185/1892868674.py:101: RuntimeWarning: divide by zero encountered in double_scalars\n",
      "  w[i] = a / s\n"
     ]
    }
   ],
   "source": [
    "l = task_1(x_collection, f)\n",
    "l.count_L()\n",
    "\n",
    "print(\"в узловых точках\")\n",
    "for x in x_collection:\n",
    "    print(f(x), l.L(x, 1))\n",
    "\n",
    "print()\n",
    "print(\"в контрольных точках\")\n",
    "for x in control_x_collection:\n",
    "    print(f(x), l.L(x, 1))\n"
   ]
  },
  {
   "cell_type": "code",
   "execution_count": 95,
   "metadata": {},
   "outputs": [
    {
     "data": {
      "text/plain": [
       "[1.1102230246251565e-16,\n",
       " 8.881784197001252e-16,\n",
       " -1.7763568394002505e-15,\n",
       " -5.329070518200751e-15,\n",
       " 1.0]"
      ]
     },
     "execution_count": 95,
     "metadata": {},
     "output_type": "execute_result"
    }
   ],
   "source": [
    "reduce(task_1.pol_sum, l.fund_pol_collection_var_1)\n"
   ]
  },
  {
   "cell_type": "code",
   "execution_count": 74,
   "metadata": {},
   "outputs": [
    {
     "data": {
      "image/png": "[encoded data removed]",
      "text/plain": [
       "<Figure size 1152x648 with 1 Axes>"
      ]
     },
     "metadata": {
      "needs_background": "light"
     },
     "output_type": "display_data"
    }
   ],
   "source": [
    "plot_graphic([f, lambda x: l.L(x, 1)], a, b, 30)\n"
   ]
  },
  {
   "cell_type": "code",
   "execution_count": 75,
   "metadata": {},
   "outputs": [
    {
     "name": "stdout",
     "output_type": "stream",
     "text": [
      "в узловых точках\n",
      "2.9785704461222102 2.978570446122216\n",
      "4.997686066658387 4.997686066659021\n",
      "10.47172869657889 10.471728696578793\n",
      "20.810654146469563 20.81065414646896\n",
      "31.399006643935966 31.399006643935145\n",
      "\n",
      "в контрольных точках\n",
      "3.9448106021193134 3.937588097565987\n",
      "10.100545557435815 10.101869512451906\n",
      "19.70283991653756 19.700036641490613\n"
     ]
    }
   ],
   "source": [
    "l = task_1(x_collection_, f)\n",
    "l.count_L()\n",
    "\n",
    "print(\"в узловых точках\")\n",
    "for x in x_collection_:\n",
    "    print(f(x), l.L(x, 1))\n",
    "\n",
    "print()\n",
    "print(\"в контрольных точках\")\n",
    "for x in control_x_collection:\n",
    "    print(f(x), l.L(x, 1))\n"
   ]
  },
  {
   "cell_type": "code",
   "execution_count": 76,
   "metadata": {},
   "outputs": [
    {
     "data": {
      "image/png": "[encoded data removed]",
      "text/plain": [
       "<Figure size 1152x648 with 1 Axes>"
      ]
     },
     "metadata": {
      "needs_background": "light"
     },
     "output_type": "display_data"
    }
   ],
   "source": [
    "plot_graphic([f, lambda x: l.L(x, 1)], a, b, 30)\n"
   ]
  },
  {
   "cell_type": "markdown",
   "metadata": {},
   "source": [
    "посчитаем погрешность"
   ]
  },
  {
   "cell_type": "code",
   "execution_count": 86,
   "metadata": {},
   "outputs": [
    {
     "data": {
      "image/png": "[encoded data removed]",
      "text/plain": [
       "<Figure size 1152x648 with 1 Axes>"
      ]
     },
     "metadata": {
      "needs_background": "light"
     },
     "output_type": "display_data"
    },
    {
     "name": "stdout",
     "output_type": "stream",
     "text": [
      "47.23356084605122\n"
     ]
    }
   ],
   "source": [
    "# она возрастающая, значит максимальное значение в правом конце отрезка\n",
    "plot_graphic([f_5_d], a, b, 100)\n",
    "print(f_5_d(b))\n"
   ]
  },
  {
   "cell_type": "code",
   "execution_count": 89,
   "metadata": {},
   "outputs": [
    {
     "data": {
      "text/plain": [
       "0.39361300705042684"
      ]
     },
     "execution_count": 89,
     "metadata": {},
     "output_type": "execute_result"
    }
   ],
   "source": [
    "f_5_d(b) / math.factorial(5)\n"
   ]
  },
  {
   "cell_type": "code",
   "execution_count": 77,
   "metadata": {},
   "outputs": [
    {
     "data": {
      "text/plain": [
       "([1.0, 1.5, 2.0, 2.5, 3.0],\n",
       " [1.0489434837048464,\n",
       "  1.412214747707527,\n",
       "  2.0,\n",
       "  2.5877852522924734,\n",
       "  2.9510565162951536])"
      ]
     },
     "execution_count": 77,
     "metadata": {},
     "output_type": "execute_result"
    }
   ],
   "source": [
    "# rn(x) = f_5_d(ksi)/5! * w_n(x)\n",
    "\n",
    "# (5th derivative 2 * ln(x + sqrt(5)) * sinh(x))\n",
    "# (5th derivative 2 * ln(x + sqrt(5)) * sinh(x)) / 5! *  (x-1) *(x-1.5)* (x-2)* (x-2.5) * (x-3)\n",
    "# (derivative 0.4 *  (x-1) *(x-1.5)* (x-2)* (x-2.5) * (x-3)) = 0\n",
    "# max 0.4 *  (x-1) *(x-1.5)* (x-2)* (x-2.5) * (x-3) from 1 to 3\n",
    "x_collection, x_collection_\n"
   ]
  },
  {
   "cell_type": "markdown",
   "metadata": {},
   "source": [
    "# task 2"
   ]
  },
  {
   "cell_type": "code",
   "execution_count": 97,
   "metadata": {},
   "outputs": [],
   "source": [
    "class task_2(task_1):\n",
    "    def __init__(self, x_collection: Iterable, f: Callable) -> None:\n",
    "        super().__init__(x_collection, f)\n",
    "\n",
    "    def diff_ratio(self, *args):\n",
    "        \"\"\"\n",
    "        мы всегда платим либо памятью, либо скоростью\n",
    "        я ставлю в приоритет память, поэтому каждый раз всё пересчитываю в рекурсии\n",
    "        :)))\n",
    "        \"\"\"\n",
    "        if len(args) == 2:\n",
    "            return (self.y_collection[args[-1]] - self.y_collection[args[0]]) / (\n",
    "                self.x_collection[args[-1]] - self.x_collection[args[0]]\n",
    "            )\n",
    "        return (self.diff_ratio(*args[1:]) - self.diff_ratio(*args[:-1])) / (\n",
    "            self.x_collection[args[-1]] - self.x_collection[args[0]]\n",
    "        )\n",
    "\n",
    "    def count_L(self):\n",
    "        w = [self.y_collection[0]]\n",
    "        for i in range(len(self.x_collection) - 1):\n",
    "            w_curr = reduce(\n",
    "                task_2.pol_prod, [[1, -self.x_collection[j]] for j in range(i + 1)]\n",
    "            )\n",
    "            s = self.diff_ratio(*list(range(i + 2)))\n",
    "            for i, a in enumerate(w_curr):\n",
    "                w_curr[i] = a * s\n",
    "            w = task_2.pol_sum(w, w_curr)\n",
    "        self.w = w\n",
    "\n",
    "    def L(self, x):\n",
    "        return task_2.f(self.w, x)\n"
   ]
  },
  {
   "cell_type": "code",
   "execution_count": 98,
   "metadata": {},
   "outputs": [
    {
     "name": "stdout",
     "output_type": "stream",
     "text": [
      "в узловых точках\n",
      "2.7602162103408827 2.7602162103408836\n",
      "5.612924222916675 5.6129242229166785\n",
      "10.47172869657889 10.471728696578896\n",
      "18.818643755906045 18.818643755906052\n",
      "33.17060303042373 33.17060303042374\n",
      "\n",
      "в контрольных точках\n",
      "3.9448106021193134 3.9316387161728366\n",
      "10.100545557435815 10.101603788285148\n",
      "19.70283991653756 19.705341014951696\n"
     ]
    }
   ],
   "source": [
    "l = task_2(x_collection, f)\n",
    "l.count_L()\n",
    "\n",
    "print(\"в узловых точках\")\n",
    "for x in x_collection:\n",
    "    print(f(x), l.L(x))\n",
    "\n",
    "print()\n",
    "print(\"в контрольных точках\")\n",
    "for x in control_x_collection:\n",
    "    print(f(x), l.L(x))\n"
   ]
  },
  {
   "cell_type": "code",
   "execution_count": 99,
   "metadata": {},
   "outputs": [
    {
     "data": {
      "image/png": "[encoded data removed]",
      "text/plain": [
       "<Figure size 1152x648 with 1 Axes>"
      ]
     },
     "metadata": {
      "needs_background": "light"
     },
     "output_type": "display_data"
    }
   ],
   "source": [
    "plot_graphic([f, l.L], a, b, 30)\n"
   ]
  },
  {
   "cell_type": "markdown",
   "metadata": {},
   "source": [
    "# task 3"
   ]
  },
  {
   "cell_type": "code",
   "execution_count": null,
   "metadata": {},
   "outputs": [],
   "source": []
  },
  {
   "cell_type": "code",
   "execution_count": null,
   "metadata": {},
   "outputs": [],
   "source": []
  },
  {
   "cell_type": "code",
   "execution_count": null,
   "metadata": {},
   "outputs": [],
   "source": []
  }
 ],
 "metadata": {
  "kernelspec": {
   "display_name": "Python 3.10.4 64-bit",
   "language": "python",
   "name": "python3"
  },
  "language_info": {
   "codemirror_mode": {
    "name": "ipython",
    "version": 3
   },
   "file_extension": ".py",
   "mimetype": "text/x-python",
   "name": "python",
   "nbconvert_exporter": "python",
   "pygments_lexer": "ipython3",
   "version": "3.10.4"
  },
  "orig_nbformat": 4,
  "vscode": {
   "interpreter": {
    "hash": "31f2aee4e71d21fbe5cf8b01ff0e069b9275f58929596ceb00d14d90e3e16cd6"
   }
  }
 },
 "nbformat": 4,
 "nbformat_minor": 2
}
