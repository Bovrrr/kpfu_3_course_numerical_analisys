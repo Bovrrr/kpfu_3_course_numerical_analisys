{
 "cells": [
  {
   "cell_type": "code",
   "execution_count": 1,
   "metadata": {},
   "outputs": [],
   "source": [
    "import numpy as np\n",
    "import sympy as sp\n",
    "\n",
    "import seaborn as sns\n",
    "import matplotlib.pyplot as plt\n",
    "%matplotlib inline\n"
   ]
  },
  {
   "cell_type": "markdown",
   "metadata": {},
   "source": [
    "# Onbayev Baurzhan (15 variant)"
   ]
  },
  {
   "cell_type": "code",
   "execution_count": 2,
   "metadata": {},
   "outputs": [],
   "source": [
    "def f(x):\n",
    "    return 2 * np.log(x + 5 ** (1 / 2)) * np.sinh(x)\n",
    "\n",
    "\n",
    "a = 1\n",
    "b = 3\n",
    "\n",
    "x_1 = 1.24\n",
    "x_2 = 1.97\n",
    "x_3 = 2.54\n"
   ]
  },
  {
   "cell_type": "markdown",
   "metadata": {},
   "source": [
    "# task 1"
   ]
  },
  {
   "cell_type": "code",
   "execution_count": 20,
   "metadata": {},
   "outputs": [],
   "source": [
    "from functools import reduce\n",
    "from typing import Callable, Iterable\n",
    "\n",
    "\n",
    "class L_approx:\n",
    "    def __init__(\n",
    "        self,\n",
    "        x_colleciton: Iterable[float],\n",
    "        f: Callable,\n",
    "    ) -> None:\n",
    "        self.x_collection = x_colleciton\n",
    "        self.y_collection = np.array([f(x) for x in x_colleciton])\n",
    "\n",
    "    @staticmethod\n",
    "    def w_prod(a, b):\n",
    "        size_a, size_b = map(len, [a, b])\n",
    "        c = np.zeros(size_a + size_b)\n",
    "        for i in range(size_a):\n",
    "            for j in range(size_b):\n",
    "                c[i + j] += a[i] * b[j]\n",
    "\n",
    "        return c\n",
    "\n",
    "    @staticmethod\n",
    "    def take_derivative(w):\n",
    "        w_ = np.zeros_like(w)\n",
    "        size = len(w)\n",
    "        for i in range(1, size):\n",
    "            w_[i] = w[i - 1] * (size - i)\n",
    "        return w_\n",
    "\n",
    "    @staticmethod\n",
    "    def polynom(w, x):\n",
    "        size = len(w)\n",
    "        return sum([w[i] * x ** (size - i) for i in range(size)])\n",
    "\n",
    "    # будет принимать строку - название метода построения\n",
    "    # в классе будет словарь методов класса - разных методов построения полиномов\n",
    "    def build_lagrange_polynom(\n",
    "        self,\n",
    "    ):\n",
    "        self.w = reduce(\n",
    "            lambda a, b: L_approx.w_prod(a, b), [[1, x] for x in self.x_collection]\n",
    "        )\n",
    "        print(self.w)\n",
    "        self.w_d = L_approx.take_derivative(self.w)\n",
    "        print(self.w_d)\n",
    "        self.l_collection = [\n",
    "            lambda x: L_approx.polynom(self.w, x)\n",
    "            / (\n",
    "                L_approx.polynom(self.w_d, x)\n",
    "                * (x - self.x_collection[k] for k in range(len(self.x_collection)))\n",
    "            )\n",
    "        ]\n",
    "\n",
    "    def approx(self, x):\n",
    "        if hasattr(self, \"l_collection\"):\n",
    "            return sum([f(x) for f in self.l_collection])\n"
   ]
  },
  {
   "cell_type": "code",
   "execution_count": 21,
   "metadata": {},
   "outputs": [
    {
     "data": {
      "text/plain": [
       "(array([1. , 1.5, 2. , 2.5, 3. ]),\n",
       " array([ 2.76021621,  5.61292422, 10.4717287 , 18.81864376, 33.17060303]))"
      ]
     },
     "execution_count": 21,
     "metadata": {},
     "output_type": "execute_result"
    }
   ],
   "source": [
    "x_colleciton = np.array([a + k * (b - a) / 4 for k in range(0, 5)])\n",
    "l_1_1 = L_approx(x_colleciton=x_colleciton, f=f)\n",
    "l_1_1.x_collection, l_1_1.y_collection\n"
   ]
  },
  {
   "cell_type": "code",
   "execution_count": 22,
   "metadata": {},
   "outputs": [
    {
     "data": {
      "text/plain": [
       "(array([0. , 4. , 4.5, 4. , 2.5]), 88.0)"
      ]
     },
     "execution_count": 22,
     "metadata": {},
     "output_type": "execute_result"
    }
   ],
   "source": [
    "sa = L_approx.polynom(l_1_1.x_collection, 2)\n",
    "L_approx.take_derivative(l_1_1.x_collection), sa\n"
   ]
  },
  {
   "cell_type": "code",
   "execution_count": 23,
   "metadata": {},
   "outputs": [
    {
     "name": "stdout",
     "output_type": "stream",
     "text": [
      "[ 1.   10.   38.75 72.5  65.25 22.5   0.    0.    0.    0.  ]\n",
      "[  0.     9.    80.   271.25 435.   326.25  90.     0.     0.     0.  ]\n"
     ]
    }
   ],
   "source": [
    "l_1_1.build_lagrange_polynom()\n"
   ]
  },
  {
   "cell_type": "code",
   "execution_count": 24,
   "metadata": {},
   "outputs": [
    {
     "ename": "TypeError",
     "evalue": "unsupported operand type(s) for *: 'float' and 'generator'",
     "output_type": "error",
     "traceback": [
      "\u001b[0;31m---------------------------------------------------------------------------\u001b[0m",
      "\u001b[0;31mTypeError\u001b[0m                                 Traceback (most recent call last)",
      "\u001b[1;32m/home/baurzhan/Source/repos/kpfu_3_course_numerical_analisys/control_work_1/code.ipynb Cell 9\u001b[0m in \u001b[0;36m<cell line: 1>\u001b[0;34m()\u001b[0m\n\u001b[0;32m----> <a href='vscode-notebook-cell:/home/baurzhan/Source/repos/kpfu_3_course_numerical_analisys/control_work_1/code.ipynb#X12sZmlsZQ%3D%3D?line=0'>1</a>\u001b[0m l_1_1\u001b[39m.\u001b[39;49mapprox(\u001b[39m1\u001b[39;49m)\n",
      "\u001b[1;32m/home/baurzhan/Source/repos/kpfu_3_course_numerical_analisys/control_work_1/code.ipynb Cell 9\u001b[0m in \u001b[0;36mL_approx.approx\u001b[0;34m(self, x)\u001b[0m\n\u001b[1;32m     <a href='vscode-notebook-cell:/home/baurzhan/Source/repos/kpfu_3_course_numerical_analisys/control_work_1/code.ipynb#X12sZmlsZQ%3D%3D?line=55'>56</a>\u001b[0m \u001b[39mdef\u001b[39;00m \u001b[39mapprox\u001b[39m(\u001b[39mself\u001b[39m, x):\n\u001b[1;32m     <a href='vscode-notebook-cell:/home/baurzhan/Source/repos/kpfu_3_course_numerical_analisys/control_work_1/code.ipynb#X12sZmlsZQ%3D%3D?line=56'>57</a>\u001b[0m     \u001b[39mif\u001b[39;00m \u001b[39mhasattr\u001b[39m(\u001b[39mself\u001b[39m, \u001b[39m\"\u001b[39m\u001b[39ml_collection\u001b[39m\u001b[39m\"\u001b[39m):\n\u001b[0;32m---> <a href='vscode-notebook-cell:/home/baurzhan/Source/repos/kpfu_3_course_numerical_analisys/control_work_1/code.ipynb#X12sZmlsZQ%3D%3D?line=57'>58</a>\u001b[0m         \u001b[39mreturn\u001b[39;00m \u001b[39msum\u001b[39m([f(x) \u001b[39mfor\u001b[39;00m f \u001b[39min\u001b[39;00m \u001b[39mself\u001b[39m\u001b[39m.\u001b[39ml_collection])\n",
      "\u001b[1;32m/home/baurzhan/Source/repos/kpfu_3_course_numerical_analisys/control_work_1/code.ipynb Cell 9\u001b[0m in \u001b[0;36m<listcomp>\u001b[0;34m(.0)\u001b[0m\n\u001b[1;32m     <a href='vscode-notebook-cell:/home/baurzhan/Source/repos/kpfu_3_course_numerical_analisys/control_work_1/code.ipynb#X12sZmlsZQ%3D%3D?line=55'>56</a>\u001b[0m \u001b[39mdef\u001b[39;00m \u001b[39mapprox\u001b[39m(\u001b[39mself\u001b[39m, x):\n\u001b[1;32m     <a href='vscode-notebook-cell:/home/baurzhan/Source/repos/kpfu_3_course_numerical_analisys/control_work_1/code.ipynb#X12sZmlsZQ%3D%3D?line=56'>57</a>\u001b[0m     \u001b[39mif\u001b[39;00m \u001b[39mhasattr\u001b[39m(\u001b[39mself\u001b[39m, \u001b[39m\"\u001b[39m\u001b[39ml_collection\u001b[39m\u001b[39m\"\u001b[39m):\n\u001b[0;32m---> <a href='vscode-notebook-cell:/home/baurzhan/Source/repos/kpfu_3_course_numerical_analisys/control_work_1/code.ipynb#X12sZmlsZQ%3D%3D?line=57'>58</a>\u001b[0m         \u001b[39mreturn\u001b[39;00m \u001b[39msum\u001b[39m([f(x) \u001b[39mfor\u001b[39;00m f \u001b[39min\u001b[39;00m \u001b[39mself\u001b[39m\u001b[39m.\u001b[39ml_collection])\n",
      "\u001b[1;32m/home/baurzhan/Source/repos/kpfu_3_course_numerical_analisys/control_work_1/code.ipynb Cell 9\u001b[0m in \u001b[0;36mL_approx.build_lagrange_polynom.<locals>.<lambda>\u001b[0;34m(x)\u001b[0m\n\u001b[1;32m     <a href='vscode-notebook-cell:/home/baurzhan/Source/repos/kpfu_3_course_numerical_analisys/control_work_1/code.ipynb#X12sZmlsZQ%3D%3D?line=45'>46</a>\u001b[0m \u001b[39mself\u001b[39m\u001b[39m.\u001b[39mw_d \u001b[39m=\u001b[39m L_approx\u001b[39m.\u001b[39mtake_derivative(\u001b[39mself\u001b[39m\u001b[39m.\u001b[39mw)\n\u001b[1;32m     <a href='vscode-notebook-cell:/home/baurzhan/Source/repos/kpfu_3_course_numerical_analisys/control_work_1/code.ipynb#X12sZmlsZQ%3D%3D?line=46'>47</a>\u001b[0m \u001b[39mprint\u001b[39m(\u001b[39mself\u001b[39m\u001b[39m.\u001b[39mw_d)\n\u001b[1;32m     <a href='vscode-notebook-cell:/home/baurzhan/Source/repos/kpfu_3_course_numerical_analisys/control_work_1/code.ipynb#X12sZmlsZQ%3D%3D?line=47'>48</a>\u001b[0m \u001b[39mself\u001b[39m\u001b[39m.\u001b[39ml_collection \u001b[39m=\u001b[39m [\n\u001b[1;32m     <a href='vscode-notebook-cell:/home/baurzhan/Source/repos/kpfu_3_course_numerical_analisys/control_work_1/code.ipynb#X12sZmlsZQ%3D%3D?line=48'>49</a>\u001b[0m     \u001b[39mlambda\u001b[39;00m x: L_approx\u001b[39m.\u001b[39mpolynom(\u001b[39mself\u001b[39m\u001b[39m.\u001b[39mw, x)\n\u001b[1;32m     <a href='vscode-notebook-cell:/home/baurzhan/Source/repos/kpfu_3_course_numerical_analisys/control_work_1/code.ipynb#X12sZmlsZQ%3D%3D?line=49'>50</a>\u001b[0m     \u001b[39m/\u001b[39m (\n\u001b[0;32m---> <a href='vscode-notebook-cell:/home/baurzhan/Source/repos/kpfu_3_course_numerical_analisys/control_work_1/code.ipynb#X12sZmlsZQ%3D%3D?line=50'>51</a>\u001b[0m         L_approx\u001b[39m.\u001b[39;49mpolynom(\u001b[39mself\u001b[39;49m\u001b[39m.\u001b[39;49mw_d, x)\n\u001b[1;32m     <a href='vscode-notebook-cell:/home/baurzhan/Source/repos/kpfu_3_course_numerical_analisys/control_work_1/code.ipynb#X12sZmlsZQ%3D%3D?line=51'>52</a>\u001b[0m         \u001b[39m*\u001b[39;49m (x \u001b[39m-\u001b[39;49m \u001b[39mself\u001b[39;49m\u001b[39m.\u001b[39;49mx_collection[k] \u001b[39mfor\u001b[39;49;00m k \u001b[39min\u001b[39;49;00m \u001b[39mrange\u001b[39;49m(\u001b[39mlen\u001b[39;49m(\u001b[39mself\u001b[39;49m\u001b[39m.\u001b[39;49mx_collection)))\n\u001b[1;32m     <a href='vscode-notebook-cell:/home/baurzhan/Source/repos/kpfu_3_course_numerical_analisys/control_work_1/code.ipynb#X12sZmlsZQ%3D%3D?line=52'>53</a>\u001b[0m     )\n\u001b[1;32m     <a href='vscode-notebook-cell:/home/baurzhan/Source/repos/kpfu_3_course_numerical_analisys/control_work_1/code.ipynb#X12sZmlsZQ%3D%3D?line=53'>54</a>\u001b[0m ]\n",
      "\u001b[0;31mTypeError\u001b[0m: unsupported operand type(s) for *: 'float' and 'generator'"
     ]
    }
   ],
   "source": [
    "l_1_1.approx(1)\n"
   ]
  },
  {
   "cell_type": "code",
   "execution_count": null,
   "metadata": {},
   "outputs": [],
   "source": []
  }
 ],
 "metadata": {
  "kernelspec": {
   "display_name": "Python 3.10.4 64-bit",
   "language": "python",
   "name": "python3"
  },
  "language_info": {
   "codemirror_mode": {
    "name": "ipython",
    "version": 3
   },
   "file_extension": ".py",
   "mimetype": "text/x-python",
   "name": "python",
   "nbconvert_exporter": "python",
   "pygments_lexer": "ipython3",
   "version": "3.10.4"
  },
  "orig_nbformat": 4,
  "vscode": {
   "interpreter": {
    "hash": "31f2aee4e71d21fbe5cf8b01ff0e069b9275f58929596ceb00d14d90e3e16cd6"
   }
  }
 },
 "nbformat": 4,
 "nbformat_minor": 2
}
