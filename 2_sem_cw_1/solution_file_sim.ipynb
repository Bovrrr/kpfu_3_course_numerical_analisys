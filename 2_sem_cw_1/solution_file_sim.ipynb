{
 "cells": [
  {
   "cell_type": "code",
   "execution_count": 3,
   "metadata": {},
   "outputs": [],
   "source": [
    "from utils import (\n",
    "    np,\n",
    "    t,\n",
    "    deepcopy,\n",
    ")\n",
    "\n",
    "from utils import (\n",
    "    norm_1_vec,\n",
    "    norm_1,\n",
    "    norm_2_vec,\n",
    "    norm_2,\n",
    "    norm_3_vec,\n",
    "    norm_3,\n",
    "    norm_spectral,\n",
    ")\n",
    "\n",
    "import matplotlib.pyplot as plt\n",
    "import seaborn as sns\n"
   ]
  },
  {
   "attachments": {},
   "cell_type": "markdown",
   "metadata": {},
   "source": [
    "# вариант 15. Онбаев Бауржан"
   ]
  },
  {
   "attachments": {},
   "cell_type": "markdown",
   "metadata": {},
   "source": [
    "# Решение СЛАУ. Ax = y"
   ]
  },
  {
   "cell_type": "code",
   "execution_count": 4,
   "metadata": {},
   "outputs": [],
   "source": [
    "# 15 вариант\n",
    "A = np.array(\n",
    "    [\n",
    "        [0.17, -0.13, -0.11, -0.12],\n",
    "        [1.0, -1.0, -0.13, 0.13],\n",
    "        [0.35, 0.33, 0.12, 0.13],\n",
    "        [0.13, 0.11, -0.13, -0.11],\n",
    "    ]\n",
    ")\n",
    "x_init = np.full(4, 0.).reshape(-1, 1)\n",
    "y = np.array([0.22, 0.11, 0.12, 1.0]).reshape(-1, 1)\n"
   ]
  },
  {
   "cell_type": "code",
   "execution_count": 203,
   "metadata": {},
   "outputs": [],
   "source": [
    "# вариант 13 Диана\n",
    "A = np.array(\n",
    "    [\n",
    "        [0.18, 2.11, 0.13, -0.22],\n",
    "        [0.33, -0.22, -1.0, 0.17],\n",
    "        [-1.0, 0.11, 2.0, -0.45],\n",
    "        [7.0, -0.17, -0.22, 0.33],\n",
    "    ]\n",
    ")\n",
    "x_init = np.full(4, 0.0).reshape(-1, 1)\n",
    "y = np.array([0.22, 0.11, 1, 0.21]).reshape(-1, 1)\n"
   ]
  },
  {
   "cell_type": "code",
   "execution_count": 6,
   "metadata": {},
   "outputs": [
    {
     "name": "stdout",
     "output_type": "stream",
     "text": [
      "A matrix\n",
      "[[ 0.17 -0.13 -0.11 -0.12]\n",
      " [ 1.   -1.   -0.13  0.13]\n",
      " [ 0.35  0.33  0.12  0.13]\n",
      " [ 0.13  0.11 -0.13 -0.11]]\n",
      "\n",
      "y vector\n",
      "[[0.22]\n",
      " [0.11]\n",
      " [0.12]\n",
      " [1.  ]]\n",
      "\n",
      "x_init vector\n",
      "[[0.]\n",
      " [0.]\n",
      " [0.]\n",
      " [0.]]\n"
     ]
    }
   ],
   "source": [
    "print(\"A matrix\", A, sep=\"\\n\", end=\"\\n\" * 2)\n",
    "print(\"y vector\", y, sep=\"\\n\", end=\"\\n\" * 2)\n",
    "print(\"x_init vector\", x_init, sep=\"\\n\")\n"
   ]
  },
  {
   "attachments": {},
   "cell_type": "markdown",
   "metadata": {},
   "source": [
    "## точное решение через обратную матрицу"
   ]
  },
  {
   "cell_type": "code",
   "execution_count": 7,
   "metadata": {},
   "outputs": [
    {
     "name": "stdout",
     "output_type": "stream",
     "text": [
      "x = A^-1 @ y\n",
      "x = \n",
      "[[ -0.044407  ]\n",
      " [  2.06847863]\n",
      " [-11.07976453]\n",
      " [  6.01935572]]\n"
     ]
    }
   ],
   "source": [
    "print(\"x = A^-1 @ y\")\n",
    "print(\"x = \")\n",
    "exact_result_x = np.linalg.inv(A) @ y\n",
    "print(exact_result_x)\n"
   ]
  },
  {
   "cell_type": "code",
   "execution_count": 8,
   "metadata": {},
   "outputs": [
    {
     "name": "stdout",
     "output_type": "stream",
     "text": [
      "exact solution x\n",
      "[[0.22]\n",
      " [0.11]\n",
      " [0.12]\n",
      " [1.  ]]\n",
      "\n",
      "y vector\n",
      "[[0.22]\n",
      " [0.11]\n",
      " [0.12]\n",
      " [1.  ]]\n",
      "\n"
     ]
    }
   ],
   "source": [
    "print(\"exact solution x\", A @ exact_result_x, sep=\"\\n\", end=\"\\n\" * 2)\n",
    "print(\"y vector\", y, sep=\"\\n\", end=\"\\n\" * 2)\n"
   ]
  },
  {
   "attachments": {},
   "cell_type": "markdown",
   "metadata": {},
   "source": [
    "## Метод простых итераций"
   ]
  },
  {
   "cell_type": "code",
   "execution_count": null,
   "metadata": {},
   "outputs": [],
   "source": []
  },
  {
   "cell_type": "code",
   "execution_count": null,
   "metadata": {},
   "outputs": [],
   "source": []
  },
  {
   "cell_type": "code",
   "execution_count": null,
   "metadata": {},
   "outputs": [],
   "source": []
  },
  {
   "cell_type": "code",
   "execution_count": 207,
   "metadata": {},
   "outputs": [],
   "source": [
    "def sim(A, x_init, y):\n",
    "    x = deepcopy(x_init)\n"
   ]
  },
  {
   "attachments": {},
   "cell_type": "markdown",
   "metadata": {},
   "source": [
    "## 2-ой вариант метода Зейделя"
   ]
  },
  {
   "attachments": {},
   "cell_type": "markdown",
   "metadata": {},
   "source": [
    "Переменные, нужные для 2-го варианта метода Зейделя, которые мы можем сразу посчитать, чтобы не пересчитывать в цикле."
   ]
  },
  {
   "cell_type": "code",
   "execution_count": 9,
   "metadata": {},
   "outputs": [],
   "source": [
    "A1 = np.tril(A)\n",
    "A2 = A - A1\n",
    "A_ = -np.linalg.inv(A1) @ A2\n",
    "a_ = np.linalg.inv(A1) @ y\n"
   ]
  },
  {
   "cell_type": "code",
   "execution_count": 10,
   "metadata": {},
   "outputs": [],
   "source": [
    "def zm2_iter(A_, x_init, a_):\n",
    "    return A_ @ x_init + a_\n",
    "\n",
    "\n",
    "def count_norms(A):\n",
    "    norm_func_collection = [norm_1, norm_2, norm_3]\n",
    "    norm_values = [norm_func_collection[i](A) for i in range(len(norm_func_collection))]\n",
    "    for i, value in enumerate(norm_values):\n",
    "        print(f\"{i+1}-ая норма: {value}\")\n",
    "    return np.array(norm_values)\n"
   ]
  },
  {
   "attachments": {},
   "cell_type": "markdown",
   "metadata": {},
   "source": [
    "Проверяем сходимость 2-го варианта метода Зейделя (достаточное условие)"
   ]
  },
  {
   "cell_type": "code",
   "execution_count": 11,
   "metadata": {},
   "outputs": [
    {
     "name": "stdout",
     "output_type": "stream",
     "text": [
      "1-ая норма: 20.082442067736185\n",
      "2-ая норма: 15.082780748663101\n",
      "3-ая норма: 14.177122175527723\n"
     ]
    }
   ],
   "source": [
    "q_collection = count_norms(A_)\n"
   ]
  },
  {
   "cell_type": "code",
   "execution_count": 13,
   "metadata": {},
   "outputs": [],
   "source": [
    "norms = [[] for i in range(3)]\n",
    "\n",
    "x = deepcopy(x_init)\n",
    "\n",
    "iterations = int(1e1)\n",
    "for _ in range(iterations):\n",
    "    x_ = deepcopy(x)\n",
    "    x = zm2_iter(A_, x, a_)\n",
    "    norms[0].append(norm_1_vec(x - x_))\n",
    "    norms[1].append(norm_2_vec(x - x_))\n",
    "    norms[2].append(norm_3_vec(x - x_))\n"
   ]
  },
  {
   "cell_type": "code",
   "execution_count": 14,
   "metadata": {},
   "outputs": [
    {
     "name": "stdout",
     "output_type": "stream",
     "text": [
      "1-ая норма между последними 2-мя приближениями x = 10253389.1\n",
      "2-ая норма между последними 2-мя приближениями x = 19098081.92\n",
      "3-ая норма между последними 2-мя приближениями x = 12526771.45\n"
     ]
    }
   ],
   "source": [
    "for i in range(3):\n",
    "    print(\n",
    "        f\"{i+1}-ая норма между последними 2-мя приближениями x = {round(norms[i][-1], 2)}\"\n",
    "    )\n"
   ]
  },
  {
   "cell_type": "code",
   "execution_count": 15,
   "metadata": {},
   "outputs": [
    {
     "data": {
      "image/png": "[encoded data removed]",
      "text/plain": [
       "<Figure size 864x504 with 1 Axes>"
      ]
     },
     "metadata": {
      "needs_background": "light"
     },
     "output_type": "display_data"
    }
   ],
   "source": [
    "plt.figure(figsize=(12, 7))\n",
    "sns.lineplot(x=list(range(iterations)), y=norms[0], label=\"1-ая норма\")\n",
    "sns.lineplot(x=list(range(iterations)), y=norms[1], label=\"2-ая норма\")\n",
    "sns.lineplot(x=list(range(iterations)), y=norms[2], label=\"3-ая норма\")\n",
    "plt.title(\n",
    "    \"Зависимость нормы разницы между приближениями в зависимости от номера итерации приближения\",\n",
    "    fontsize=16,\n",
    ")\n",
    "plt.xlabel(\"Номер итерации\", fontsize=14)\n",
    "plt.show()\n"
   ]
  },
  {
   "attachments": {},
   "cell_type": "markdown",
   "metadata": {},
   "source": [
    "## Метод градиентного спуска"
   ]
  },
  {
   "cell_type": "code",
   "execution_count": 16,
   "metadata": {},
   "outputs": [],
   "source": [
    "def grad_descent_iteration(A, x, b):\n",
    "    grad = b - A @ x\n",
    "    lr = np.sum(grad * grad) / np.sum(grad * (A @ grad))\n",
    "    return x + lr * grad\n"
   ]
  },
  {
   "cell_type": "code",
   "execution_count": 18,
   "metadata": {},
   "outputs": [],
   "source": [
    "# если b окажется 0, то градиент полностью занулится и мы не сможем сдвинуться с места вовсе\n",
    "x = np.random.rand(4).reshape(-1, 1)\n",
    "norms = [[] for i in range(3)]\n",
    "iterations = int(1e2)\n",
    "for _ in range(iterations):\n",
    "    x = grad_descent_iteration(A, x, y)\n",
    "    norms[0].append(norm_1_vec(A @ x - y))\n",
    "    norms[1].append(norm_2_vec(A @ x - y))\n",
    "    norms[2].append(norm_3_vec(A @ x - y))\n"
   ]
  },
  {
   "cell_type": "code",
   "execution_count": 19,
   "metadata": {},
   "outputs": [
    {
     "data": {
      "image/png": "[encoded data removed]",
      "text/plain": [
       "<Figure size 864x504 with 1 Axes>"
      ]
     },
     "metadata": {
      "needs_background": "light"
     },
     "output_type": "display_data"
    }
   ],
   "source": [
    "plt.figure(figsize=(12, 7))\n",
    "sns.lineplot(x=list(range(iterations)), y=norms[0], label=\"1-ая норма\")\n",
    "sns.lineplot(x=list(range(iterations)), y=norms[1], label=\"2-ая норма\")\n",
    "sns.lineplot(x=list(range(iterations)), y=norms[2], label=\"3-ая норма\")\n",
    "plt.title(\n",
    "    \"Зависимость нормы разницы между приближением и b в зависимости от номера итерации приближения\",\n",
    "    fontsize=16,\n",
    ")\n",
    "plt.xlabel(\"Номер итерации\", fontsize=14)\n",
    "plt.show()\n"
   ]
  },
  {
   "cell_type": "code",
   "execution_count": null,
   "metadata": {},
   "outputs": [],
   "source": []
  }
 ],
 "metadata": {
  "kernelspec": {
   "display_name": "Python 3",
   "language": "python",
   "name": "python3"
  },
  "language_info": {
   "codemirror_mode": {
    "name": "ipython",
    "version": 3
   },
   "file_extension": ".py",
   "mimetype": "text/x-python",
   "name": "python",
   "nbconvert_exporter": "python",
   "pygments_lexer": "ipython3",
   "version": "3.10.6"
  },
  "orig_nbformat": 4
 },
 "nbformat": 4,
 "nbformat_minor": 2
}
